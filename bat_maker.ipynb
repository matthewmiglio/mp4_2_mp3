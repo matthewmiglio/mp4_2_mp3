{
 "cells": [
  {
   "cell_type": "code",
   "execution_count": 9,
   "metadata": {},
   "outputs": [],
   "source": [
    "import os"
   ]
  },
  {
   "cell_type": "markdown",
   "metadata": {},
   "source": [
    "@echo off\n",
    "cd /d C:\\My_Files\\my_programs\\PyBeatStars2\n",
    "title PyBeatStarsv2.0\n",
    "poetry install --no-root\n",
    "poetry run python bot.py\n",
    "pause"
   ]
  },
  {
   "cell_type": "code",
   "execution_count": 10,
   "metadata": {},
   "outputs": [
    {
     "name": "stdout",
     "output_type": "stream",
     "text": [
      "c:\\My_Files\\my_programs\\mp4_2_mp3\\mp4_to_mp3.py\n"
     ]
    }
   ],
   "source": [
    "cwd = os.getcwd()\n",
    "fp = os.path.join(cwd,'mp4_to_mp3.py')\n",
    "print(fp)"
   ]
  },
  {
   "cell_type": "code",
   "execution_count": 11,
   "metadata": {},
   "outputs": [],
   "source": [
    "text = f\"\"\"@echo off\n",
    "cd /d {cwd}\n",
    "title mp4_to_mp3\n",
    "poetry install --no-root\n",
    "poetry run python mp4_to_mp3.py\n",
    "pause\"\"\""
   ]
  },
  {
   "cell_type": "code",
   "execution_count": 12,
   "metadata": {},
   "outputs": [],
   "source": [
    "#method to make a file given a name and text\n",
    "def make_file(name, text):\n",
    "    with open(name, 'w') as f:\n",
    "        f.write(text)\n",
    "\n",
    "make_file('mp4_to_mp3.bat', text)"
   ]
  }
 ],
 "metadata": {
  "kernelspec": {
   "display_name": "Python 3",
   "language": "python",
   "name": "python3"
  },
  "language_info": {
   "codemirror_mode": {
    "name": "ipython",
    "version": 3
   },
   "file_extension": ".py",
   "mimetype": "text/x-python",
   "name": "python",
   "nbconvert_exporter": "python",
   "pygments_lexer": "ipython3",
   "version": "3.11.1"
  }
 },
 "nbformat": 4,
 "nbformat_minor": 2
}
